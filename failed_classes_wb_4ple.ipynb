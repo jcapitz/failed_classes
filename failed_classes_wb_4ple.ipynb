{
 "cells": [
  {
   "cell_type": "markdown",
   "metadata": {},
   "source": [
    "# Conditional Class Performance"
   ]
  },
  {
   "cell_type": "markdown",
   "metadata": {},
   "source": [
    "Basic Modules:"
   ]
  },
  {
   "cell_type": "code",
   "execution_count": 2,
   "metadata": {},
   "outputs": [],
   "source": [
    "import pandas\n",
    "from pandas import DataFrame, Series\n",
    "pandas.options.display.max_columns = None\n",
    "\n",
    "import time\n",
    "import copy\n",
    "\n",
    "import matplotlib.pyplot as plt\n",
    "%matplotlib inline\n",
    "\n",
    "from itertools import combinations"
   ]
  },
  {
   "cell_type": "markdown",
   "metadata": {},
   "source": [
    "#### Import Data File:\n",
    "The data representation indicates student failing a class (1) or student passing a class (0)"
   ]
  },
  {
   "cell_type": "code",
   "execution_count": 3,
   "metadata": {},
   "outputs": [
    {
     "name": "stdout",
     "output_type": "stream",
     "text": [
      "(99, 11)\n"
     ]
    },
    {
     "data": {
      "text/html": [
       "<div>\n",
       "<style scoped>\n",
       "    .dataframe tbody tr th:only-of-type {\n",
       "        vertical-align: middle;\n",
       "    }\n",
       "\n",
       "    .dataframe tbody tr th {\n",
       "        vertical-align: top;\n",
       "    }\n",
       "\n",
       "    .dataframe thead th {\n",
       "        text-align: right;\n",
       "    }\n",
       "</style>\n",
       "<table border=\"1\" class=\"dataframe\">\n",
       "  <thead>\n",
       "    <tr style=\"text-align: right;\">\n",
       "      <th></th>\n",
       "      <th>EMPLID</th>\n",
       "      <th>CL1</th>\n",
       "      <th>CL2</th>\n",
       "      <th>CL3</th>\n",
       "      <th>CL4</th>\n",
       "      <th>CL5</th>\n",
       "      <th>CL6</th>\n",
       "      <th>CL7</th>\n",
       "      <th>CL8</th>\n",
       "      <th>CL9</th>\n",
       "      <th>CL10</th>\n",
       "    </tr>\n",
       "  </thead>\n",
       "  <tbody>\n",
       "    <tr>\n",
       "      <th>0</th>\n",
       "      <td>1</td>\n",
       "      <td>1</td>\n",
       "      <td>0</td>\n",
       "      <td>0</td>\n",
       "      <td>0</td>\n",
       "      <td>0</td>\n",
       "      <td>1</td>\n",
       "      <td>1</td>\n",
       "      <td>0</td>\n",
       "      <td>0</td>\n",
       "      <td>0</td>\n",
       "    </tr>\n",
       "    <tr>\n",
       "      <th>1</th>\n",
       "      <td>2</td>\n",
       "      <td>0</td>\n",
       "      <td>1</td>\n",
       "      <td>1</td>\n",
       "      <td>1</td>\n",
       "      <td>1</td>\n",
       "      <td>1</td>\n",
       "      <td>0</td>\n",
       "      <td>0</td>\n",
       "      <td>0</td>\n",
       "      <td>1</td>\n",
       "    </tr>\n",
       "    <tr>\n",
       "      <th>2</th>\n",
       "      <td>3</td>\n",
       "      <td>1</td>\n",
       "      <td>0</td>\n",
       "      <td>0</td>\n",
       "      <td>0</td>\n",
       "      <td>0</td>\n",
       "      <td>1</td>\n",
       "      <td>1</td>\n",
       "      <td>0</td>\n",
       "      <td>0</td>\n",
       "      <td>1</td>\n",
       "    </tr>\n",
       "    <tr>\n",
       "      <th>3</th>\n",
       "      <td>4</td>\n",
       "      <td>0</td>\n",
       "      <td>1</td>\n",
       "      <td>0</td>\n",
       "      <td>1</td>\n",
       "      <td>1</td>\n",
       "      <td>1</td>\n",
       "      <td>0</td>\n",
       "      <td>1</td>\n",
       "      <td>1</td>\n",
       "      <td>0</td>\n",
       "    </tr>\n",
       "    <tr>\n",
       "      <th>4</th>\n",
       "      <td>5</td>\n",
       "      <td>0</td>\n",
       "      <td>1</td>\n",
       "      <td>0</td>\n",
       "      <td>1</td>\n",
       "      <td>0</td>\n",
       "      <td>0</td>\n",
       "      <td>0</td>\n",
       "      <td>1</td>\n",
       "      <td>1</td>\n",
       "      <td>0</td>\n",
       "    </tr>\n",
       "  </tbody>\n",
       "</table>\n",
       "</div>"
      ],
      "text/plain": [
       "   EMPLID   CL1  CL2  CL3  CL4  CL5  CL6  CL7  CL8  CL9  CL10\n",
       "0        1    1    0    0    0    0    1    1    0    0     0\n",
       "1        2    0    1    1    1    1    1    0    0    0     1\n",
       "2        3    1    0    0    0    0    1    1    0    0     1\n",
       "3        4    0    1    0    1    1    1    0    1    1     0\n",
       "4        5    0    1    0    1    0    0    0    1    1     0"
      ]
     },
     "execution_count": 3,
     "metadata": {},
     "output_type": "execute_result"
    }
   ],
   "source": [
    "df = pandas.read_excel('Class_Bundle_Sample_File.xlsx')\n",
    "\n",
    "print(df.shape)\n",
    "\n",
    "df.head()\n"
   ]
  },
  {
   "cell_type": "markdown",
   "metadata": {},
   "source": [
    "##### Create all possible combinations of n classes"
   ]
  },
  {
   "cell_type": "code",
   "execution_count": 4,
   "metadata": {},
   "outputs": [
    {
     "name": "stdout",
     "output_type": "stream",
     "text": [
      "there are 210 possible 4-class combinations\n"
     ]
    }
   ],
   "source": [
    "n = 4\n",
    "\n",
    "classes = df.columns[1:]\n",
    "\n",
    "comb = combinations(classes, n) \n",
    "\n",
    "comb_list = list(comb)\n",
    "\n",
    "print('there are {} possible {}-class combinations'.format(len(comb_list), n))"
   ]
  },
  {
   "cell_type": "markdown",
   "metadata": {},
   "source": [
    "### Prepare data for processing"
   ]
  },
  {
   "cell_type": "markdown",
   "metadata": {},
   "source": [
    "###### Fix the EMPLID column name which contains a space inserted at the end for no obvious reason."
   ]
  },
  {
   "cell_type": "code",
   "execution_count": 5,
   "metadata": {},
   "outputs": [
    {
     "data": {
      "text/plain": [
       "Index(['EMPLID ', 'CL1', 'CL2', 'CL3', 'CL4', 'CL5', 'CL6', 'CL7', 'CL8',\n",
       "       'CL9', 'CL10'],\n",
       "      dtype='object')"
      ]
     },
     "execution_count": 5,
     "metadata": {},
     "output_type": "execute_result"
    }
   ],
   "source": [
    "df.columns"
   ]
  },
  {
   "cell_type": "code",
   "execution_count": 6,
   "metadata": {},
   "outputs": [],
   "source": [
    "df.rename(columns={'EMPLID ':'EMPLID'},inplace=True)"
   ]
  },
  {
   "cell_type": "code",
   "execution_count": 14,
   "metadata": {},
   "outputs": [
    {
     "data": {
      "text/plain": [
       "10"
      ]
     },
     "execution_count": 14,
     "metadata": {},
     "output_type": "execute_result"
    }
   ],
   "source": [
    "df.columns[1:].shape[0]"
   ]
  },
  {
   "cell_type": "markdown",
   "metadata": {},
   "source": [
    "## Engine"
   ]
  },
  {
   "cell_type": "code",
   "execution_count": 7,
   "metadata": {},
   "outputs": [],
   "source": [
    "def combination_counter(df):\n",
    "    \n",
    "    #set up rows,columns,indexes and data to populate adjecency matrix\n",
    "    dim = df.columns[1:].shape[0]\n",
    "    row = 0\n",
    "    col = 0\n",
    "    row_idx = []\n",
    "    col_idx = []\n",
    "    data = []\n",
    "    students = {}\n",
    "    combo_dict = {}\n",
    "\n",
    "    lst_index = list(range(dim - 1))\n",
    "    start = 0\n",
    "    end = start + len(list(range(dim))) - 1\n",
    "\n",
    "    for row in range(dim):\n",
    "\n",
    "        col = row + 1\n",
    "\n",
    "        if row > 0:\n",
    "\n",
    "            holder_index = lst_index\n",
    "\n",
    "            start = holder_index[-1] + 1\n",
    "\n",
    "            end = start + len(holder_index) - 1\n",
    "\n",
    "            lst_index = list(range(start,end))\n",
    "\n",
    "        # iterate through all possible class-combos combos\n",
    "        for combo in comb_list[start:end]:\n",
    "\n",
    "            # test\n",
    "            #print(row,col,combo)\n",
    "\n",
    "            # end indexing when reaching end\n",
    "            if col <= end:\n",
    "\n",
    "                # pull enrollment indicator for class-combos\n",
    "                df_tuple = df[['EMPLID'] + list(combo)]\n",
    "\n",
    "                # ignore class-combos without students in common\n",
    "                if df_tuple[(df_tuple.iloc[:,1]==1) & \n",
    "                            (df_tuple.iloc[:,2]==1) & \n",
    "                            (df_tuple.iloc[:,3]==1) & \n",
    "                            (df_tuple.iloc[:,4]==1)].shape[0]!=0:\n",
    "\n",
    "                    # pull df of all students in common for a given class-combo\n",
    "                    common_stdts_emplid = df_tuple[(df_tuple.iloc[:,1]==1) & \n",
    "                                                   (df_tuple.iloc[:,2]==1) & \n",
    "                                                   (df_tuple.iloc[:,3]==1) & \n",
    "                                                   (df_tuple.iloc[:,4]==1)]\n",
    "                    common_stdts = common_stdts_emplid.drop(columns=['EMPLID'])\n",
    "\n",
    "                    # count students in common for a given class-combo\n",
    "                    common_stdts_cnt = common_stdts.iloc[:,0].sum()\n",
    "\n",
    "                    # store row index\n",
    "                    row_idx.append(row)\n",
    "\n",
    "                    # store column index\n",
    "                    col_idx.append(col)\n",
    "\n",
    "                    # store students in common count\n",
    "                    data.append(common_stdts_cnt)\n",
    "\n",
    "                    # store students in common with emplid\n",
    "                    students[combo] = common_stdts_emplid\n",
    "\n",
    "                    # store index class-combos\n",
    "                    combo_dict[combo] = [combo[0],combo[1],combo[2],combo[3],row,col,common_stdts_cnt]\n",
    "\n",
    "                    #test\n",
    "                    #print(row,col,combo,common_stdts_cnt)\n",
    "\n",
    "                # accumulate col by one\n",
    "                col += 1\n",
    "                \n",
    "    return (combo_dict,students,data)"
   ]
  },
  {
   "cell_type": "markdown",
   "metadata": {},
   "source": [
    "###### Implement Engine and obtain results"
   ]
  },
  {
   "cell_type": "code",
   "execution_count": 8,
   "metadata": {},
   "outputs": [
    {
     "name": "stdout",
     "output_type": "stream",
     "text": [
      "run took 0.197 seconds\n"
     ]
    }
   ],
   "source": [
    "start_time = time.time()\n",
    "combo_dict, students, data = combination_counter(df)\n",
    "end_time = time.time()\n",
    "\n",
    "print('run took {:0.3f} seconds'.format((end_time-start_time)))"
   ]
  },
  {
   "cell_type": "code",
   "execution_count": 9,
   "metadata": {},
   "outputs": [
    {
     "name": "stdout",
     "output_type": "stream",
     "text": [
      "there are 45 class-tuples that have at least one student failing all n classes\n",
      "the maximum number of students enrolled in a class set is 13\n"
     ]
    }
   ],
   "source": [
    "print('there are {} class-tuples that have at least one student failing all n classes'.format(len(data)))\n",
    "\n",
    "print('the maximum number of students enrolled in a class set is {}'.format(max(data)))"
   ]
  },
  {
   "cell_type": "code",
   "execution_count": 10,
   "metadata": {},
   "outputs": [
    {
     "data": {
      "text/html": [
       "<div>\n",
       "<style scoped>\n",
       "    .dataframe tbody tr th:only-of-type {\n",
       "        vertical-align: middle;\n",
       "    }\n",
       "\n",
       "    .dataframe tbody tr th {\n",
       "        vertical-align: top;\n",
       "    }\n",
       "\n",
       "    .dataframe thead th {\n",
       "        text-align: right;\n",
       "    }\n",
       "</style>\n",
       "<table border=\"1\" class=\"dataframe\">\n",
       "  <thead>\n",
       "    <tr style=\"text-align: right;\">\n",
       "      <th></th>\n",
       "      <th>class1</th>\n",
       "      <th>class2</th>\n",
       "      <th>class3</th>\n",
       "      <th>class4</th>\n",
       "      <th>row</th>\n",
       "      <th>column</th>\n",
       "      <th>failed</th>\n",
       "    </tr>\n",
       "  </thead>\n",
       "  <tbody>\n",
       "    <tr>\n",
       "      <th>(CL1, CL3, CL7, CL9)</th>\n",
       "      <td>CL1</td>\n",
       "      <td>CL3</td>\n",
       "      <td>CL7</td>\n",
       "      <td>CL9</td>\n",
       "      <td>8</td>\n",
       "      <td>9</td>\n",
       "      <td>13</td>\n",
       "    </tr>\n",
       "    <tr>\n",
       "      <th>(CL1, CL2, CL7, CL9)</th>\n",
       "      <td>CL1</td>\n",
       "      <td>CL2</td>\n",
       "      <td>CL7</td>\n",
       "      <td>CL9</td>\n",
       "      <td>2</td>\n",
       "      <td>9</td>\n",
       "      <td>13</td>\n",
       "    </tr>\n",
       "    <tr>\n",
       "      <th>(CL1, CL2, CL3, CL7)</th>\n",
       "      <td>CL1</td>\n",
       "      <td>CL2</td>\n",
       "      <td>CL3</td>\n",
       "      <td>CL7</td>\n",
       "      <td>0</td>\n",
       "      <td>4</td>\n",
       "      <td>12</td>\n",
       "    </tr>\n",
       "    <tr>\n",
       "      <th>(CL1, CL2, CL5, CL9)</th>\n",
       "      <td>CL1</td>\n",
       "      <td>CL2</td>\n",
       "      <td>CL5</td>\n",
       "      <td>CL9</td>\n",
       "      <td>1</td>\n",
       "      <td>9</td>\n",
       "      <td>11</td>\n",
       "    </tr>\n",
       "    <tr>\n",
       "      <th>(CL1, CL2, CL6, CL7)</th>\n",
       "      <td>CL1</td>\n",
       "      <td>CL2</td>\n",
       "      <td>CL6</td>\n",
       "      <td>CL7</td>\n",
       "      <td>2</td>\n",
       "      <td>4</td>\n",
       "      <td>10</td>\n",
       "    </tr>\n",
       "  </tbody>\n",
       "</table>\n",
       "</div>"
      ],
      "text/plain": [
       "                     class1 class2 class3 class4  row  column  failed\n",
       "(CL1, CL3, CL7, CL9)    CL1    CL3    CL7    CL9    8       9      13\n",
       "(CL1, CL2, CL7, CL9)    CL1    CL2    CL7    CL9    2       9      13\n",
       "(CL1, CL2, CL3, CL7)    CL1    CL2    CL3    CL7    0       4      12\n",
       "(CL1, CL2, CL5, CL9)    CL1    CL2    CL5    CL9    1       9      11\n",
       "(CL1, CL2, CL6, CL7)    CL1    CL2    CL6    CL7    2       4      10"
      ]
     },
     "execution_count": 10,
     "metadata": {},
     "output_type": "execute_result"
    }
   ],
   "source": [
    "combo_data = pandas.DataFrame.from_dict(combo_dict, orient='index')\n",
    "combo_data.columns = ['class1','class2','class3','class4','row','column','failed']\n",
    "\n",
    "combo_data.sort_values(by='failed',ascending=False,inplace=True)\n",
    "\n",
    "combo_data.head()"
   ]
  },
  {
   "cell_type": "code",
   "execution_count": 13,
   "metadata": {},
   "outputs": [
    {
     "data": {
      "text/plain": [
       "(45, 7)"
      ]
     },
     "execution_count": 13,
     "metadata": {},
     "output_type": "execute_result"
    }
   ],
   "source": [
    "combo_data.shape"
   ]
  },
  {
   "cell_type": "markdown",
   "metadata": {},
   "source": [
    "###### Validation:\n",
    "Look at original dataset and manually count events"
   ]
  },
  {
   "cell_type": "code",
   "execution_count": 12,
   "metadata": {},
   "outputs": [
    {
     "data": {
      "text/html": [
       "<div>\n",
       "<style scoped>\n",
       "    .dataframe tbody tr th:only-of-type {\n",
       "        vertical-align: middle;\n",
       "    }\n",
       "\n",
       "    .dataframe tbody tr th {\n",
       "        vertical-align: top;\n",
       "    }\n",
       "\n",
       "    .dataframe thead th {\n",
       "        text-align: right;\n",
       "    }\n",
       "</style>\n",
       "<table border=\"1\" class=\"dataframe\">\n",
       "  <thead>\n",
       "    <tr style=\"text-align: right;\">\n",
       "      <th></th>\n",
       "      <th>CL1</th>\n",
       "      <th>CL3</th>\n",
       "      <th>CL7</th>\n",
       "      <th>CL9</th>\n",
       "    </tr>\n",
       "  </thead>\n",
       "  <tbody>\n",
       "    <tr>\n",
       "      <th>9</th>\n",
       "      <td>1</td>\n",
       "      <td>1</td>\n",
       "      <td>1</td>\n",
       "      <td>1</td>\n",
       "    </tr>\n",
       "    <tr>\n",
       "      <th>11</th>\n",
       "      <td>1</td>\n",
       "      <td>1</td>\n",
       "      <td>1</td>\n",
       "      <td>1</td>\n",
       "    </tr>\n",
       "    <tr>\n",
       "      <th>20</th>\n",
       "      <td>1</td>\n",
       "      <td>1</td>\n",
       "      <td>1</td>\n",
       "      <td>1</td>\n",
       "    </tr>\n",
       "    <tr>\n",
       "      <th>27</th>\n",
       "      <td>1</td>\n",
       "      <td>1</td>\n",
       "      <td>1</td>\n",
       "      <td>1</td>\n",
       "    </tr>\n",
       "    <tr>\n",
       "      <th>37</th>\n",
       "      <td>1</td>\n",
       "      <td>1</td>\n",
       "      <td>1</td>\n",
       "      <td>1</td>\n",
       "    </tr>\n",
       "    <tr>\n",
       "      <th>55</th>\n",
       "      <td>1</td>\n",
       "      <td>1</td>\n",
       "      <td>1</td>\n",
       "      <td>1</td>\n",
       "    </tr>\n",
       "    <tr>\n",
       "      <th>59</th>\n",
       "      <td>1</td>\n",
       "      <td>1</td>\n",
       "      <td>1</td>\n",
       "      <td>1</td>\n",
       "    </tr>\n",
       "    <tr>\n",
       "      <th>66</th>\n",
       "      <td>1</td>\n",
       "      <td>1</td>\n",
       "      <td>1</td>\n",
       "      <td>1</td>\n",
       "    </tr>\n",
       "    <tr>\n",
       "      <th>72</th>\n",
       "      <td>1</td>\n",
       "      <td>1</td>\n",
       "      <td>1</td>\n",
       "      <td>1</td>\n",
       "    </tr>\n",
       "    <tr>\n",
       "      <th>73</th>\n",
       "      <td>1</td>\n",
       "      <td>1</td>\n",
       "      <td>1</td>\n",
       "      <td>1</td>\n",
       "    </tr>\n",
       "    <tr>\n",
       "      <th>85</th>\n",
       "      <td>1</td>\n",
       "      <td>1</td>\n",
       "      <td>1</td>\n",
       "      <td>1</td>\n",
       "    </tr>\n",
       "    <tr>\n",
       "      <th>87</th>\n",
       "      <td>1</td>\n",
       "      <td>1</td>\n",
       "      <td>1</td>\n",
       "      <td>1</td>\n",
       "    </tr>\n",
       "    <tr>\n",
       "      <th>91</th>\n",
       "      <td>1</td>\n",
       "      <td>1</td>\n",
       "      <td>1</td>\n",
       "      <td>1</td>\n",
       "    </tr>\n",
       "    <tr>\n",
       "      <th>17</th>\n",
       "      <td>1</td>\n",
       "      <td>1</td>\n",
       "      <td>1</td>\n",
       "      <td>0</td>\n",
       "    </tr>\n",
       "  </tbody>\n",
       "</table>\n",
       "</div>"
      ],
      "text/plain": [
       "    CL1  CL3  CL7  CL9\n",
       "9     1    1    1    1\n",
       "11    1    1    1    1\n",
       "20    1    1    1    1\n",
       "27    1    1    1    1\n",
       "37    1    1    1    1\n",
       "55    1    1    1    1\n",
       "59    1    1    1    1\n",
       "66    1    1    1    1\n",
       "72    1    1    1    1\n",
       "73    1    1    1    1\n",
       "85    1    1    1    1\n",
       "87    1    1    1    1\n",
       "91    1    1    1    1\n",
       "17    1    1    1    0"
      ]
     },
     "execution_count": 12,
     "metadata": {},
     "output_type": "execute_result"
    }
   ],
   "source": [
    "df[['CL1','CL3','CL7','CL9']].sort_values(by=['CL1','CL3','CL7','CL9'],ascending=False).head(14)"
   ]
  },
  {
   "cell_type": "code",
   "execution_count": null,
   "metadata": {},
   "outputs": [],
   "source": []
  }
 ],
 "metadata": {
  "anaconda-cloud": {},
  "kernelspec": {
   "display_name": "Python 3",
   "language": "python",
   "name": "python3"
  },
  "language_info": {
   "codemirror_mode": {
    "name": "ipython",
    "version": 3
   },
   "file_extension": ".py",
   "mimetype": "text/x-python",
   "name": "python",
   "nbconvert_exporter": "python",
   "pygments_lexer": "ipython3",
   "version": "3.7.3"
  }
 },
 "nbformat": 4,
 "nbformat_minor": 1
}
