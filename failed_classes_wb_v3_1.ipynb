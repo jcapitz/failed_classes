{
 "cells": [
  {
   "cell_type": "markdown",
   "metadata": {},
   "source": [
    "# Conditional Class Performance"
   ]
  },
  {
   "cell_type": "markdown",
   "metadata": {},
   "source": [
    "Basic Modules:"
   ]
  },
  {
   "cell_type": "code",
   "execution_count": 48,
   "metadata": {},
   "outputs": [],
   "source": [
    "import pandas\n",
    "import numpy\n",
    "import time\n",
    "import copy\n",
    "from itertools import combinations"
   ]
  },
  {
   "cell_type": "markdown",
   "metadata": {},
   "source": [
    "#### Import Data File:\n",
    "The data representation indicates student failing a class (1) or student passing a class (0)"
   ]
  },
  {
   "cell_type": "code",
   "execution_count": 49,
   "metadata": {},
   "outputs": [
    {
     "name": "stdout",
     "output_type": "stream",
     "text": [
      "(2156, 22)\n"
     ]
    },
    {
     "data": {
      "text/plain": [
       "EMPLID         987356.0\n",
       "CL1                 0.0\n",
       "CL2                 0.0\n",
       "CL3                 0.0\n",
       "CL4                 0.0\n",
       "CL5                 0.0\n",
       "CL6                 0.0\n",
       "CL7                 0.0\n",
       "CL8                 0.0\n",
       "CL9                 0.0\n",
       "CL10                1.0\n",
       "CL11                0.0\n",
       "CL12                0.0\n",
       "CL13                0.0\n",
       "CL14                0.0\n",
       "CL15                0.0\n",
       "CL16                0.0\n",
       "CL17                0.0\n",
       "CL18                0.0\n",
       "CL19                0.0\n",
       "CL20                0.0\n",
       "Unnamed: 21         1.0\n",
       "dtype: float64"
      ]
     },
     "execution_count": 49,
     "metadata": {},
     "output_type": "execute_result"
    }
   ],
   "source": [
    "df = pandas.read_csv('JCMA.csv')\n",
    "\n",
    "print(df.shape)\n",
    "\n",
    "df[df['EMPLID']==987356].sum()"
   ]
  },
  {
   "cell_type": "code",
   "execution_count": 50,
   "metadata": {},
   "outputs": [
    {
     "data": {
      "text/html": [
       "<div>\n",
       "<style scoped>\n",
       "    .dataframe tbody tr th:only-of-type {\n",
       "        vertical-align: middle;\n",
       "    }\n",
       "\n",
       "    .dataframe tbody tr th {\n",
       "        vertical-align: top;\n",
       "    }\n",
       "\n",
       "    .dataframe thead th {\n",
       "        text-align: right;\n",
       "    }\n",
       "</style>\n",
       "<table border=\"1\" class=\"dataframe\">\n",
       "  <thead>\n",
       "    <tr style=\"text-align: right;\">\n",
       "      <th></th>\n",
       "      <th>EMPLID</th>\n",
       "      <th>CL1</th>\n",
       "      <th>CL2</th>\n",
       "      <th>CL3</th>\n",
       "      <th>CL4</th>\n",
       "      <th>CL5</th>\n",
       "      <th>CL6</th>\n",
       "      <th>CL7</th>\n",
       "      <th>CL8</th>\n",
       "      <th>CL9</th>\n",
       "      <th>...</th>\n",
       "      <th>CL11</th>\n",
       "      <th>CL12</th>\n",
       "      <th>CL13</th>\n",
       "      <th>CL14</th>\n",
       "      <th>CL15</th>\n",
       "      <th>CL16</th>\n",
       "      <th>CL17</th>\n",
       "      <th>CL18</th>\n",
       "      <th>CL19</th>\n",
       "      <th>CL20</th>\n",
       "    </tr>\n",
       "  </thead>\n",
       "  <tbody>\n",
       "    <tr>\n",
       "      <th>1857</th>\n",
       "      <td>987356</td>\n",
       "      <td>0</td>\n",
       "      <td>0</td>\n",
       "      <td>0</td>\n",
       "      <td>0</td>\n",
       "      <td>0</td>\n",
       "      <td>0</td>\n",
       "      <td>0</td>\n",
       "      <td>0</td>\n",
       "      <td>0</td>\n",
       "      <td>...</td>\n",
       "      <td>0</td>\n",
       "      <td>0</td>\n",
       "      <td>0</td>\n",
       "      <td>0</td>\n",
       "      <td>0</td>\n",
       "      <td>0</td>\n",
       "      <td>0</td>\n",
       "      <td>0</td>\n",
       "      <td>0</td>\n",
       "      <td>0</td>\n",
       "    </tr>\n",
       "  </tbody>\n",
       "</table>\n",
       "<p>1 rows × 21 columns</p>\n",
       "</div>"
      ],
      "text/plain": [
       "      EMPLID  CL1  CL2  CL3  CL4  CL5  CL6  CL7  CL8  CL9  ...  CL11  CL12  \\\n",
       "1857  987356    0    0    0    0    0    0    0    0    0  ...     0     0   \n",
       "\n",
       "      CL13  CL14  CL15  CL16  CL17  CL18  CL19  CL20  \n",
       "1857     0     0     0     0     0     0     0     0  \n",
       "\n",
       "[1 rows x 21 columns]"
      ]
     },
     "execution_count": 50,
     "metadata": {},
     "output_type": "execute_result"
    }
   ],
   "source": [
    "df.drop(columns=['Unnamed: 21'],inplace=True)\n",
    "\n",
    "df.replace(numpy.nan,0,inplace=True)\n",
    "\n",
    "df = df.astype('int64')\n",
    "\n",
    "df[df['EMPLID']==987356]"
   ]
  },
  {
   "cell_type": "markdown",
   "metadata": {},
   "source": [
    "##### Create all possible combinations of n classes"
   ]
  },
  {
   "cell_type": "code",
   "execution_count": 51,
   "metadata": {},
   "outputs": [],
   "source": [
    "n = 1"
   ]
  },
  {
   "cell_type": "code",
   "execution_count": 52,
   "metadata": {},
   "outputs": [
    {
     "name": "stdout",
     "output_type": "stream",
     "text": [
      "there are 20 possible 1-class combinations\n"
     ]
    }
   ],
   "source": [
    "classes = df.columns[1:]\n",
    "\n",
    "comb = combinations(classes, n) \n",
    "\n",
    "comb_list = list(comb)\n",
    "\n",
    "print('there are {} possible {}-class combinations'.format(len(comb_list), n))"
   ]
  },
  {
   "cell_type": "markdown",
   "metadata": {},
   "source": [
    "### Prepare data for processing"
   ]
  },
  {
   "cell_type": "markdown",
   "metadata": {},
   "source": [
    "###### Fix the EMPLID column name which contains a space inserted at the end for no obvious reason."
   ]
  },
  {
   "cell_type": "code",
   "execution_count": 53,
   "metadata": {},
   "outputs": [
    {
     "data": {
      "text/plain": [
       "Index(['EMPLID', 'CL1', 'CL2', 'CL3', 'CL4', 'CL5', 'CL6', 'CL7', 'CL8', 'CL9',\n",
       "       'CL10', 'CL11', 'CL12', 'CL13', 'CL14', 'CL15', 'CL16', 'CL17', 'CL18',\n",
       "       'CL19', 'CL20'],\n",
       "      dtype='object')"
      ]
     },
     "execution_count": 53,
     "metadata": {},
     "output_type": "execute_result"
    }
   ],
   "source": [
    "df.columns"
   ]
  },
  {
   "cell_type": "code",
   "execution_count": 54,
   "metadata": {},
   "outputs": [],
   "source": [
    "df.rename(columns={'EMPLID ':'EMPLID'},inplace=True)"
   ]
  },
  {
   "cell_type": "markdown",
   "metadata": {},
   "source": [
    "## Engine"
   ]
  },
  {
   "cell_type": "code",
   "execution_count": 55,
   "metadata": {},
   "outputs": [],
   "source": [
    "def combination_counter(df,l1,l2):\n",
    "    \"\"\"\n",
    "    df: a dataframe containing EMPLID and classes. Class columns must be consecutive.\n",
    "    l1: first class column name in cluster\n",
    "    l2: last class column name in cluster\n",
    "    \"\"\"\n",
    "    \n",
    "    #set up rows,columns,indexes and data to populate adjecency matrix\n",
    "    data = []\n",
    "    students = {}\n",
    "    combo_dict = {}\n",
    "    \n",
    "    # iterate through all possible class-combos combos\n",
    "    for combo in comb_list:\n",
    "        # pull enrollment indicator for class-combos\n",
    "        df_tuple = df[['EMPLID'] + list(combo)]\n",
    "        # ignore class-combos without students in common\n",
    "        if df_tuple[df_tuple.iloc[:,l1:l2+1].all(axis=1)].shape[0]!=0:\n",
    "            \n",
    "            # pull df of all students in common for a given class-combo\n",
    "            common_stdts_emplid = df_tuple[df_tuple.iloc[:,l1:l2+1].all(axis=1)]\n",
    "\n",
    "            common_stdts = common_stdts_emplid.drop(columns=['EMPLID'])\n",
    "\n",
    "            # count students in common for a given class-combo\n",
    "            common_stdts_cnt = common_stdts.iloc[:,0].sum()\n",
    "\n",
    "            # store students in common count\n",
    "            data.append(common_stdts_cnt)\n",
    "\n",
    "            # store students in common with emplid\n",
    "            students[combo] = common_stdts_emplid\n",
    "\n",
    "            # store index class-combos\n",
    "            combo_dict[combo] = [combo[i] for i in range(len(combo))] + [common_stdts_cnt]\n",
    "                \n",
    "    return (combo_dict,students,data)"
   ]
  },
  {
   "cell_type": "markdown",
   "metadata": {},
   "source": [
    "###### Implement Engine and obtain results"
   ]
  },
  {
   "cell_type": "code",
   "execution_count": 56,
   "metadata": {},
   "outputs": [
    {
     "name": "stdout",
     "output_type": "stream",
     "text": [
      "run took 0.050 seconds\n"
     ]
    }
   ],
   "source": [
    "start_time = time.time()\n",
    "combo_dict, students, data = combination_counter(df,1,n)\n",
    "end_time = time.time()\n",
    "\n",
    "print('run took {:0.3f} seconds'.format((end_time-start_time)))"
   ]
  },
  {
   "cell_type": "code",
   "execution_count": 57,
   "metadata": {},
   "outputs": [
    {
     "name": "stdout",
     "output_type": "stream",
     "text": [
      "there are 20 class-tuples that have at least one student failing all n classes\n",
      "the maximum number of students enrolled in a class set is 237\n"
     ]
    }
   ],
   "source": [
    "print('there are {} class-tuples that have at least one student failing all n classes'.format(len(data)))\n",
    "\n",
    "print('the maximum number of students enrolled in a class set is {}'.format(max(data)))"
   ]
  },
  {
   "cell_type": "code",
   "execution_count": 58,
   "metadata": {},
   "outputs": [
    {
     "data": {
      "text/html": [
       "<div>\n",
       "<style scoped>\n",
       "    .dataframe tbody tr th:only-of-type {\n",
       "        vertical-align: middle;\n",
       "    }\n",
       "\n",
       "    .dataframe tbody tr th {\n",
       "        vertical-align: top;\n",
       "    }\n",
       "\n",
       "    .dataframe thead th {\n",
       "        text-align: right;\n",
       "    }\n",
       "</style>\n",
       "<table border=\"1\" class=\"dataframe\">\n",
       "  <thead>\n",
       "    <tr style=\"text-align: right;\">\n",
       "      <th></th>\n",
       "      <th>class1</th>\n",
       "      <th>failed</th>\n",
       "    </tr>\n",
       "  </thead>\n",
       "  <tbody>\n",
       "    <tr>\n",
       "      <th>(CL13,)</th>\n",
       "      <td>CL13</td>\n",
       "      <td>237</td>\n",
       "    </tr>\n",
       "    <tr>\n",
       "      <th>(CL2,)</th>\n",
       "      <td>CL2</td>\n",
       "      <td>116</td>\n",
       "    </tr>\n",
       "    <tr>\n",
       "      <th>(CL10,)</th>\n",
       "      <td>CL10</td>\n",
       "      <td>102</td>\n",
       "    </tr>\n",
       "    <tr>\n",
       "      <th>(CL11,)</th>\n",
       "      <td>CL11</td>\n",
       "      <td>99</td>\n",
       "    </tr>\n",
       "    <tr>\n",
       "      <th>(CL12,)</th>\n",
       "      <td>CL12</td>\n",
       "      <td>98</td>\n",
       "    </tr>\n",
       "  </tbody>\n",
       "</table>\n",
       "</div>"
      ],
      "text/plain": [
       "        class1  failed\n",
       "(CL13,)   CL13     237\n",
       "(CL2,)     CL2     116\n",
       "(CL10,)   CL10     102\n",
       "(CL11,)   CL11      99\n",
       "(CL12,)   CL12      98"
      ]
     },
     "execution_count": 58,
     "metadata": {},
     "output_type": "execute_result"
    }
   ],
   "source": [
    "combo_data = pandas.DataFrame.from_dict(combo_dict, orient='index')\n",
    "\n",
    "combo_data.columns = ['class'+str(i+1) for i in range(n)] + ['failed']\n",
    "\n",
    "combo_data.sort_values(by='failed',ascending=False,inplace=True)\n",
    "\n",
    "combo_data.head()"
   ]
  },
  {
   "cell_type": "markdown",
   "metadata": {},
   "source": [
    "###### Validation:\n",
    "Look at original dataset and manually count events"
   ]
  },
  {
   "cell_type": "code",
   "execution_count": 59,
   "metadata": {},
   "outputs": [
    {
     "data": {
      "text/html": [
       "<div>\n",
       "<style scoped>\n",
       "    .dataframe tbody tr th:only-of-type {\n",
       "        vertical-align: middle;\n",
       "    }\n",
       "\n",
       "    .dataframe tbody tr th {\n",
       "        vertical-align: top;\n",
       "    }\n",
       "\n",
       "    .dataframe thead th {\n",
       "        text-align: right;\n",
       "    }\n",
       "</style>\n",
       "<table border=\"1\" class=\"dataframe\">\n",
       "  <thead>\n",
       "    <tr style=\"text-align: right;\">\n",
       "      <th></th>\n",
       "      <th>CL13</th>\n",
       "    </tr>\n",
       "  </thead>\n",
       "  <tbody>\n",
       "    <tr>\n",
       "      <th>837</th>\n",
       "      <td>1</td>\n",
       "    </tr>\n",
       "    <tr>\n",
       "      <th>1865</th>\n",
       "      <td>1</td>\n",
       "    </tr>\n",
       "    <tr>\n",
       "      <th>717</th>\n",
       "      <td>1</td>\n",
       "    </tr>\n",
       "    <tr>\n",
       "      <th>171</th>\n",
       "      <td>1</td>\n",
       "    </tr>\n",
       "    <tr>\n",
       "      <th>1676</th>\n",
       "      <td>1</td>\n",
       "    </tr>\n",
       "    <tr>\n",
       "      <th>...</th>\n",
       "      <td>...</td>\n",
       "    </tr>\n",
       "    <tr>\n",
       "      <th>2037</th>\n",
       "      <td>1</td>\n",
       "    </tr>\n",
       "    <tr>\n",
       "      <th>1</th>\n",
       "      <td>1</td>\n",
       "    </tr>\n",
       "    <tr>\n",
       "      <th>87</th>\n",
       "      <td>1</td>\n",
       "    </tr>\n",
       "    <tr>\n",
       "      <th>2074</th>\n",
       "      <td>1</td>\n",
       "    </tr>\n",
       "    <tr>\n",
       "      <th>1418</th>\n",
       "      <td>0</td>\n",
       "    </tr>\n",
       "  </tbody>\n",
       "</table>\n",
       "<p>238 rows × 1 columns</p>\n",
       "</div>"
      ],
      "text/plain": [
       "      CL13\n",
       "837      1\n",
       "1865     1\n",
       "717      1\n",
       "171      1\n",
       "1676     1\n",
       "...    ...\n",
       "2037     1\n",
       "1        1\n",
       "87       1\n",
       "2074     1\n",
       "1418     0\n",
       "\n",
       "[238 rows x 1 columns]"
      ]
     },
     "execution_count": 59,
     "metadata": {},
     "output_type": "execute_result"
    }
   ],
   "source": [
    "val_col = [combo_data.index[0][i] for i in range(len(combo_data.index[0]))]\n",
    "\n",
    "df[val_col].sort_values(by=val_col,ascending=False).head(combo_data['failed'][0] + 1)"
   ]
  },
  {
   "cell_type": "markdown",
   "metadata": {},
   "source": [
    "###### Students by EMPLID and Failed Group of Classes"
   ]
  },
  {
   "cell_type": "code",
   "execution_count": 60,
   "metadata": {},
   "outputs": [],
   "source": [
    "def make_students():\n",
    "    \n",
    "    fs = pandas.DataFrame(columns=['EMPLID','failed'])\n",
    "\n",
    "    for key in range(len(students.keys())):\n",
    "        temp = students[list(students.keys())[key]][['EMPLID']].copy()\n",
    "        temp['failed'] = str(list(students.keys())[key])\n",
    "        fs = pandas.concat([fs,temp])\n",
    "    return fs"
   ]
  },
  {
   "cell_type": "code",
   "execution_count": 61,
   "metadata": {},
   "outputs": [
    {
     "data": {
      "text/html": [
       "<div>\n",
       "<style scoped>\n",
       "    .dataframe tbody tr th:only-of-type {\n",
       "        vertical-align: middle;\n",
       "    }\n",
       "\n",
       "    .dataframe tbody tr th {\n",
       "        vertical-align: top;\n",
       "    }\n",
       "\n",
       "    .dataframe thead th {\n",
       "        text-align: right;\n",
       "    }\n",
       "</style>\n",
       "<table border=\"1\" class=\"dataframe\">\n",
       "  <thead>\n",
       "    <tr style=\"text-align: right;\">\n",
       "      <th></th>\n",
       "      <th>EMPLID</th>\n",
       "      <th>failed</th>\n",
       "    </tr>\n",
       "  </thead>\n",
       "  <tbody>\n",
       "    <tr>\n",
       "      <th>37</th>\n",
       "      <td>1002408</td>\n",
       "      <td>('CL1',)</td>\n",
       "    </tr>\n",
       "    <tr>\n",
       "      <th>49</th>\n",
       "      <td>1002750</td>\n",
       "      <td>('CL1',)</td>\n",
       "    </tr>\n",
       "    <tr>\n",
       "      <th>56</th>\n",
       "      <td>1003129</td>\n",
       "      <td>('CL1',)</td>\n",
       "    </tr>\n",
       "    <tr>\n",
       "      <th>82</th>\n",
       "      <td>1003812</td>\n",
       "      <td>('CL1',)</td>\n",
       "    </tr>\n",
       "    <tr>\n",
       "      <th>127</th>\n",
       "      <td>1005739</td>\n",
       "      <td>('CL1',)</td>\n",
       "    </tr>\n",
       "    <tr>\n",
       "      <th>...</th>\n",
       "      <td>...</td>\n",
       "      <td>...</td>\n",
       "    </tr>\n",
       "    <tr>\n",
       "      <th>1310</th>\n",
       "      <td>919676</td>\n",
       "      <td>('CL20',)</td>\n",
       "    </tr>\n",
       "    <tr>\n",
       "      <th>1383</th>\n",
       "      <td>939920</td>\n",
       "      <td>('CL20',)</td>\n",
       "    </tr>\n",
       "    <tr>\n",
       "      <th>1384</th>\n",
       "      <td>939990</td>\n",
       "      <td>('CL20',)</td>\n",
       "    </tr>\n",
       "    <tr>\n",
       "      <th>1491</th>\n",
       "      <td>959973</td>\n",
       "      <td>('CL20',)</td>\n",
       "    </tr>\n",
       "    <tr>\n",
       "      <th>1554</th>\n",
       "      <td>968525</td>\n",
       "      <td>('CL20',)</td>\n",
       "    </tr>\n",
       "  </tbody>\n",
       "</table>\n",
       "<p>1310 rows × 2 columns</p>\n",
       "</div>"
      ],
      "text/plain": [
       "       EMPLID     failed\n",
       "37    1002408   ('CL1',)\n",
       "49    1002750   ('CL1',)\n",
       "56    1003129   ('CL1',)\n",
       "82    1003812   ('CL1',)\n",
       "127   1005739   ('CL1',)\n",
       "...       ...        ...\n",
       "1310   919676  ('CL20',)\n",
       "1383   939920  ('CL20',)\n",
       "1384   939990  ('CL20',)\n",
       "1491   959973  ('CL20',)\n",
       "1554   968525  ('CL20',)\n",
       "\n",
       "[1310 rows x 2 columns]"
      ]
     },
     "execution_count": 61,
     "metadata": {},
     "output_type": "execute_result"
    }
   ],
   "source": [
    "fs = make_students()\n",
    "\n",
    "fs"
   ]
  },
  {
   "cell_type": "code",
   "execution_count": 62,
   "metadata": {},
   "outputs": [
    {
     "data": {
      "text/html": [
       "<div>\n",
       "<style scoped>\n",
       "    .dataframe tbody tr th:only-of-type {\n",
       "        vertical-align: middle;\n",
       "    }\n",
       "\n",
       "    .dataframe tbody tr th {\n",
       "        vertical-align: top;\n",
       "    }\n",
       "\n",
       "    .dataframe thead th {\n",
       "        text-align: right;\n",
       "    }\n",
       "</style>\n",
       "<table border=\"1\" class=\"dataframe\">\n",
       "  <thead>\n",
       "    <tr style=\"text-align: right;\">\n",
       "      <th></th>\n",
       "      <th>EMPLID</th>\n",
       "      <th>failed</th>\n",
       "    </tr>\n",
       "  </thead>\n",
       "  <tbody>\n",
       "    <tr>\n",
       "      <th>1857</th>\n",
       "      <td>987356</td>\n",
       "      <td>('CL10',)</td>\n",
       "    </tr>\n",
       "  </tbody>\n",
       "</table>\n",
       "</div>"
      ],
      "text/plain": [
       "      EMPLID     failed\n",
       "1857  987356  ('CL10',)"
      ]
     },
     "execution_count": 62,
     "metadata": {},
     "output_type": "execute_result"
    }
   ],
   "source": [
    "fs[fs['EMPLID']==987356]"
   ]
  },
  {
   "cell_type": "code",
   "execution_count": null,
   "metadata": {},
   "outputs": [],
   "source": []
  },
  {
   "cell_type": "code",
   "execution_count": null,
   "metadata": {},
   "outputs": [],
   "source": []
  }
 ],
 "metadata": {
  "anaconda-cloud": {},
  "kernelspec": {
   "display_name": "Python 3",
   "language": "python",
   "name": "python3"
  },
  "language_info": {
   "codemirror_mode": {
    "name": "ipython",
    "version": 3
   },
   "file_extension": ".py",
   "mimetype": "text/x-python",
   "name": "python",
   "nbconvert_exporter": "python",
   "pygments_lexer": "ipython3",
   "version": "3.7.3"
  }
 },
 "nbformat": 4,
 "nbformat_minor": 1
}
