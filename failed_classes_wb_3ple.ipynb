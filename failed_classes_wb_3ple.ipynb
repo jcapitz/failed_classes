{
 "cells": [
  {
   "cell_type": "markdown",
   "metadata": {},
   "source": [
    "# Conditional Class Performance"
   ]
  },
  {
   "cell_type": "markdown",
   "metadata": {},
   "source": [
    "Basic Modules:"
   ]
  },
  {
   "cell_type": "code",
   "execution_count": 2,
   "metadata": {},
   "outputs": [],
   "source": [
    "import pandas\n",
    "from pandas import DataFrame, Series\n",
    "pandas.options.display.max_columns = None\n",
    "\n",
    "import time\n",
    "import copy\n",
    "\n",
    "import matplotlib.pyplot as plt\n",
    "%matplotlib inline\n",
    "\n",
    "from itertools import combinations"
   ]
  },
  {
   "cell_type": "markdown",
   "metadata": {},
   "source": [
    "#### Import Data File:\n",
    "The data representation indicates student failing a class (1) or student passing a class (0)"
   ]
  },
  {
   "cell_type": "code",
   "execution_count": 3,
   "metadata": {},
   "outputs": [
    {
     "name": "stdout",
     "output_type": "stream",
     "text": [
      "(99, 11)\n"
     ]
    },
    {
     "data": {
      "text/html": [
       "<div>\n",
       "<style scoped>\n",
       "    .dataframe tbody tr th:only-of-type {\n",
       "        vertical-align: middle;\n",
       "    }\n",
       "\n",
       "    .dataframe tbody tr th {\n",
       "        vertical-align: top;\n",
       "    }\n",
       "\n",
       "    .dataframe thead th {\n",
       "        text-align: right;\n",
       "    }\n",
       "</style>\n",
       "<table border=\"1\" class=\"dataframe\">\n",
       "  <thead>\n",
       "    <tr style=\"text-align: right;\">\n",
       "      <th></th>\n",
       "      <th>EMPLID</th>\n",
       "      <th>CL1</th>\n",
       "      <th>CL2</th>\n",
       "      <th>CL3</th>\n",
       "      <th>CL4</th>\n",
       "      <th>CL5</th>\n",
       "      <th>CL6</th>\n",
       "      <th>CL7</th>\n",
       "      <th>CL8</th>\n",
       "      <th>CL9</th>\n",
       "      <th>CL10</th>\n",
       "    </tr>\n",
       "  </thead>\n",
       "  <tbody>\n",
       "    <tr>\n",
       "      <th>0</th>\n",
       "      <td>1</td>\n",
       "      <td>1</td>\n",
       "      <td>0</td>\n",
       "      <td>0</td>\n",
       "      <td>0</td>\n",
       "      <td>0</td>\n",
       "      <td>1</td>\n",
       "      <td>1</td>\n",
       "      <td>0</td>\n",
       "      <td>0</td>\n",
       "      <td>0</td>\n",
       "    </tr>\n",
       "    <tr>\n",
       "      <th>1</th>\n",
       "      <td>2</td>\n",
       "      <td>0</td>\n",
       "      <td>1</td>\n",
       "      <td>1</td>\n",
       "      <td>1</td>\n",
       "      <td>1</td>\n",
       "      <td>1</td>\n",
       "      <td>0</td>\n",
       "      <td>0</td>\n",
       "      <td>0</td>\n",
       "      <td>1</td>\n",
       "    </tr>\n",
       "    <tr>\n",
       "      <th>2</th>\n",
       "      <td>3</td>\n",
       "      <td>1</td>\n",
       "      <td>0</td>\n",
       "      <td>0</td>\n",
       "      <td>0</td>\n",
       "      <td>0</td>\n",
       "      <td>1</td>\n",
       "      <td>1</td>\n",
       "      <td>0</td>\n",
       "      <td>0</td>\n",
       "      <td>1</td>\n",
       "    </tr>\n",
       "    <tr>\n",
       "      <th>3</th>\n",
       "      <td>4</td>\n",
       "      <td>0</td>\n",
       "      <td>1</td>\n",
       "      <td>0</td>\n",
       "      <td>1</td>\n",
       "      <td>1</td>\n",
       "      <td>1</td>\n",
       "      <td>0</td>\n",
       "      <td>1</td>\n",
       "      <td>1</td>\n",
       "      <td>0</td>\n",
       "    </tr>\n",
       "    <tr>\n",
       "      <th>4</th>\n",
       "      <td>5</td>\n",
       "      <td>0</td>\n",
       "      <td>1</td>\n",
       "      <td>0</td>\n",
       "      <td>1</td>\n",
       "      <td>0</td>\n",
       "      <td>0</td>\n",
       "      <td>0</td>\n",
       "      <td>1</td>\n",
       "      <td>1</td>\n",
       "      <td>0</td>\n",
       "    </tr>\n",
       "  </tbody>\n",
       "</table>\n",
       "</div>"
      ],
      "text/plain": [
       "   EMPLID   CL1  CL2  CL3  CL4  CL5  CL6  CL7  CL8  CL9  CL10\n",
       "0        1    1    0    0    0    0    1    1    0    0     0\n",
       "1        2    0    1    1    1    1    1    0    0    0     1\n",
       "2        3    1    0    0    0    0    1    1    0    0     1\n",
       "3        4    0    1    0    1    1    1    0    1    1     0\n",
       "4        5    0    1    0    1    0    0    0    1    1     0"
      ]
     },
     "execution_count": 3,
     "metadata": {},
     "output_type": "execute_result"
    }
   ],
   "source": [
    "df = pandas.read_excel('Class_Bundle_Sample_File.xlsx')\n",
    "\n",
    "print(df.shape)\n",
    "\n",
    "df.head()\n"
   ]
  },
  {
   "cell_type": "markdown",
   "metadata": {},
   "source": [
    "##### Create all possible combinations of n classes"
   ]
  },
  {
   "cell_type": "code",
   "execution_count": 4,
   "metadata": {},
   "outputs": [
    {
     "name": "stdout",
     "output_type": "stream",
     "text": [
      "there are 120 possible 3-class combinations\n"
     ]
    }
   ],
   "source": [
    "n = 3\n",
    "\n",
    "classes = df.columns[1:]\n",
    "\n",
    "comb = combinations(classes, n) \n",
    "\n",
    "comb_list = list(comb)\n",
    "\n",
    "print('there are {} possible {}-class combinations'.format(len(comb_list), n))"
   ]
  },
  {
   "cell_type": "markdown",
   "metadata": {},
   "source": [
    "### Prepare data for processing"
   ]
  },
  {
   "cell_type": "markdown",
   "metadata": {},
   "source": [
    "###### Fix the EMPLID column name which contains a space inserted at the end for no obvious reason."
   ]
  },
  {
   "cell_type": "code",
   "execution_count": 5,
   "metadata": {},
   "outputs": [
    {
     "data": {
      "text/plain": [
       "Index(['EMPLID ', 'CL1', 'CL2', 'CL3', 'CL4', 'CL5', 'CL6', 'CL7', 'CL8',\n",
       "       'CL9', 'CL10'],\n",
       "      dtype='object')"
      ]
     },
     "execution_count": 5,
     "metadata": {},
     "output_type": "execute_result"
    }
   ],
   "source": [
    "df.columns"
   ]
  },
  {
   "cell_type": "code",
   "execution_count": 6,
   "metadata": {},
   "outputs": [],
   "source": [
    "df.rename(columns={'EMPLID ':'EMPLID'},inplace=True)"
   ]
  },
  {
   "cell_type": "markdown",
   "metadata": {},
   "source": [
    "## Engine"
   ]
  },
  {
   "cell_type": "code",
   "execution_count": 7,
   "metadata": {},
   "outputs": [],
   "source": [
    "def combination_counter(df):\n",
    "    \n",
    "    #set up rows,columns,indexes and data to populate adjecency matrix\n",
    "    dim = df.columns[1:].shape[0]\n",
    "    row = 0\n",
    "    col = 0\n",
    "    row_idx = []\n",
    "    col_idx = []\n",
    "    data = []\n",
    "    students = {}\n",
    "    combo_dict = {}\n",
    "\n",
    "    lst_index = list(range(dim - 1))\n",
    "    start = 0\n",
    "    end = start + len(list(range(dim))) - 1\n",
    "\n",
    "    for row in range(dim):\n",
    "\n",
    "        col = row + 1\n",
    "\n",
    "        if row > 0:\n",
    "\n",
    "            holder_index = lst_index\n",
    "\n",
    "            start = holder_index[-1] + 1\n",
    "\n",
    "            end = start + len(holder_index) - 1\n",
    "\n",
    "            lst_index = list(range(start,end))\n",
    "\n",
    "        # iterate through all possible class-combos combos\n",
    "        for combo in comb_list[start:end]:\n",
    "\n",
    "            # test\n",
    "            #print(row,col,combo)\n",
    "\n",
    "            # end indexing when reaching end\n",
    "            if col <= end:\n",
    "\n",
    "                # pull enrollment indicator for class-combos\n",
    "                df_tuple = df[['EMPLID'] + list(combo)]\n",
    "\n",
    "                # ignore class-combos without students in common\n",
    "                if df_tuple[(df_tuple.iloc[:,1]==1) & \n",
    "                            (df_tuple.iloc[:,2]==1) & \n",
    "                            (df_tuple.iloc[:,3]==1)].shape[0]!=0:\n",
    "\n",
    "                    # pull df of all students in common for a given class-combo\n",
    "                    common_stdts_emplid = df_tuple[(df_tuple.iloc[:,1]==1) & \n",
    "                                                   (df_tuple.iloc[:,2]==1) & \n",
    "                                                   (df_tuple.iloc[:,3]==1)]\n",
    "                    common_stdts = common_stdts_emplid.drop(columns=['EMPLID'])\n",
    "\n",
    "                    # count students in common for a given class-combo\n",
    "                    common_stdts_cnt = common_stdts.iloc[:,0].sum()\n",
    "\n",
    "                    # store row index\n",
    "                    row_idx.append(row)\n",
    "\n",
    "                    # store column index\n",
    "                    col_idx.append(col)\n",
    "\n",
    "                    # store students in common count\n",
    "                    data.append(common_stdts_cnt)\n",
    "\n",
    "                    # store students in common with emplid\n",
    "                    students[combo] = common_stdts_emplid\n",
    "\n",
    "                    # store index class-combos\n",
    "                    combo_dict[combo] = [combo[0],combo[1],combo[2],row,col,common_stdts_cnt]\n",
    "\n",
    "                    #test\n",
    "                    #print(row,col,combo,common_stdts_cnt)\n",
    "\n",
    "                # accumulate col by one\n",
    "                col += 1\n",
    "                \n",
    "    return (combo_dict,students,data)"
   ]
  },
  {
   "cell_type": "markdown",
   "metadata": {},
   "source": [
    "###### Implement Engine and obtain results"
   ]
  },
  {
   "cell_type": "code",
   "execution_count": 8,
   "metadata": {},
   "outputs": [
    {
     "name": "stdout",
     "output_type": "stream",
     "text": [
      "run took 0.154 seconds\n"
     ]
    }
   ],
   "source": [
    "start_time = time.time()\n",
    "combo_dict, students, data = combination_counter(df)\n",
    "end_time = time.time()\n",
    "\n",
    "print('run took {:0.3f} seconds'.format((end_time-start_time)))"
   ]
  },
  {
   "cell_type": "code",
   "execution_count": 9,
   "metadata": {},
   "outputs": [
    {
     "name": "stdout",
     "output_type": "stream",
     "text": [
      "there are 45 class-tuples that have at least one student failing all n classes\n",
      "the maximum number of students enrolled in a class set is 19\n"
     ]
    }
   ],
   "source": [
    "print('there are {} class-tuples that have at least one student failing all n classes'.format(len(data)))\n",
    "\n",
    "print('the maximum number of students enrolled in a class set is {}'.format(max(data)))"
   ]
  },
  {
   "cell_type": "code",
   "execution_count": 10,
   "metadata": {},
   "outputs": [
    {
     "data": {
      "text/html": [
       "<div>\n",
       "<style scoped>\n",
       "    .dataframe tbody tr th:only-of-type {\n",
       "        vertical-align: middle;\n",
       "    }\n",
       "\n",
       "    .dataframe tbody tr th {\n",
       "        vertical-align: top;\n",
       "    }\n",
       "\n",
       "    .dataframe thead th {\n",
       "        text-align: right;\n",
       "    }\n",
       "</style>\n",
       "<table border=\"1\" class=\"dataframe\">\n",
       "  <thead>\n",
       "    <tr style=\"text-align: right;\">\n",
       "      <th></th>\n",
       "      <th>class1</th>\n",
       "      <th>class2</th>\n",
       "      <th>class3</th>\n",
       "      <th>row</th>\n",
       "      <th>column</th>\n",
       "      <th>failed</th>\n",
       "    </tr>\n",
       "  </thead>\n",
       "  <tbody>\n",
       "    <tr>\n",
       "      <th>(CL1, CL2, CL7)</th>\n",
       "      <td>CL1</td>\n",
       "      <td>CL2</td>\n",
       "      <td>CL7</td>\n",
       "      <td>0</td>\n",
       "      <td>5</td>\n",
       "      <td>19</td>\n",
       "    </tr>\n",
       "    <tr>\n",
       "      <th>(CL2, CL3, CL7)</th>\n",
       "      <td>CL2</td>\n",
       "      <td>CL3</td>\n",
       "      <td>CL7</td>\n",
       "      <td>6</td>\n",
       "      <td>7</td>\n",
       "      <td>19</td>\n",
       "    </tr>\n",
       "    <tr>\n",
       "      <th>(CL2, CL3, CL5)</th>\n",
       "      <td>CL2</td>\n",
       "      <td>CL3</td>\n",
       "      <td>CL5</td>\n",
       "      <td>5</td>\n",
       "      <td>8</td>\n",
       "      <td>19</td>\n",
       "    </tr>\n",
       "    <tr>\n",
       "      <th>(CL1, CL7, CL9)</th>\n",
       "      <td>CL1</td>\n",
       "      <td>CL7</td>\n",
       "      <td>CL9</td>\n",
       "      <td>4</td>\n",
       "      <td>6</td>\n",
       "      <td>19</td>\n",
       "    </tr>\n",
       "    <tr>\n",
       "      <th>(CL1, CL3, CL7)</th>\n",
       "      <td>CL1</td>\n",
       "      <td>CL3</td>\n",
       "      <td>CL7</td>\n",
       "      <td>1</td>\n",
       "      <td>4</td>\n",
       "      <td>19</td>\n",
       "    </tr>\n",
       "  </tbody>\n",
       "</table>\n",
       "</div>"
      ],
      "text/plain": [
       "                class1 class2 class3  row  column  failed\n",
       "(CL1, CL2, CL7)    CL1    CL2    CL7    0       5      19\n",
       "(CL2, CL3, CL7)    CL2    CL3    CL7    6       7      19\n",
       "(CL2, CL3, CL5)    CL2    CL3    CL5    5       8      19\n",
       "(CL1, CL7, CL9)    CL1    CL7    CL9    4       6      19\n",
       "(CL1, CL3, CL7)    CL1    CL3    CL7    1       4      19"
      ]
     },
     "execution_count": 10,
     "metadata": {},
     "output_type": "execute_result"
    }
   ],
   "source": [
    "combo_data = pandas.DataFrame.from_dict(combo_dict, orient='index')\n",
    "combo_data.columns = ['class1','class2','class3','row','column','failed']\n",
    "\n",
    "combo_data.sort_values(by='failed',ascending=False,inplace=True)\n",
    "\n",
    "combo_data.head()"
   ]
  },
  {
   "cell_type": "code",
   "execution_count": 29,
   "metadata": {},
   "outputs": [
    {
     "data": {
      "text/plain": [
       "(45, 6)"
      ]
     },
     "execution_count": 29,
     "metadata": {},
     "output_type": "execute_result"
    }
   ],
   "source": [
    "combo_data.shape"
   ]
  },
  {
   "cell_type": "code",
   "execution_count": 27,
   "metadata": {},
   "outputs": [
    {
     "data": {
      "image/png": "[encoded data removed]",
      "text/plain": [
       "<Figure size 1152x576 with 1 Axes>"
      ]
     },
     "metadata": {
      "needs_background": "light"
     },
     "output_type": "display_data"
    }
   ],
   "source": [
    "ax = plt.gca()\n",
    "\n",
    "combo_data['failed'].plot(\n",
    "    kind='bar',\n",
    "    figsize=(16,8),\n",
    "    ax=ax\n",
    ")\n",
    "\n",
    "plt.show()"
   ]
  },
  {
   "cell_type": "markdown",
   "metadata": {},
   "source": [
    "###### Validation:\n",
    "Look at original dataset and manually count events"
   ]
  },
  {
   "cell_type": "code",
   "execution_count": 11,
   "metadata": {},
   "outputs": [
    {
     "data": {
      "text/html": [
       "<div>\n",
       "<style scoped>\n",
       "    .dataframe tbody tr th:only-of-type {\n",
       "        vertical-align: middle;\n",
       "    }\n",
       "\n",
       "    .dataframe tbody tr th {\n",
       "        vertical-align: top;\n",
       "    }\n",
       "\n",
       "    .dataframe thead th {\n",
       "        text-align: right;\n",
       "    }\n",
       "</style>\n",
       "<table border=\"1\" class=\"dataframe\">\n",
       "  <thead>\n",
       "    <tr style=\"text-align: right;\">\n",
       "      <th></th>\n",
       "      <th>CL1</th>\n",
       "      <th>CL2</th>\n",
       "      <th>CL7</th>\n",
       "    </tr>\n",
       "  </thead>\n",
       "  <tbody>\n",
       "    <tr>\n",
       "      <th>9</th>\n",
       "      <td>1</td>\n",
       "      <td>1</td>\n",
       "      <td>1</td>\n",
       "    </tr>\n",
       "    <tr>\n",
       "      <th>11</th>\n",
       "      <td>1</td>\n",
       "      <td>1</td>\n",
       "      <td>1</td>\n",
       "    </tr>\n",
       "    <tr>\n",
       "      <th>12</th>\n",
       "      <td>1</td>\n",
       "      <td>1</td>\n",
       "      <td>1</td>\n",
       "    </tr>\n",
       "    <tr>\n",
       "      <th>14</th>\n",
       "      <td>1</td>\n",
       "      <td>1</td>\n",
       "      <td>1</td>\n",
       "    </tr>\n",
       "    <tr>\n",
       "      <th>18</th>\n",
       "      <td>1</td>\n",
       "      <td>1</td>\n",
       "      <td>1</td>\n",
       "    </tr>\n",
       "    <tr>\n",
       "      <th>23</th>\n",
       "      <td>1</td>\n",
       "      <td>1</td>\n",
       "      <td>1</td>\n",
       "    </tr>\n",
       "    <tr>\n",
       "      <th>28</th>\n",
       "      <td>1</td>\n",
       "      <td>1</td>\n",
       "      <td>1</td>\n",
       "    </tr>\n",
       "    <tr>\n",
       "      <th>31</th>\n",
       "      <td>1</td>\n",
       "      <td>1</td>\n",
       "      <td>1</td>\n",
       "    </tr>\n",
       "    <tr>\n",
       "      <th>37</th>\n",
       "      <td>1</td>\n",
       "      <td>1</td>\n",
       "      <td>1</td>\n",
       "    </tr>\n",
       "    <tr>\n",
       "      <th>59</th>\n",
       "      <td>1</td>\n",
       "      <td>1</td>\n",
       "      <td>1</td>\n",
       "    </tr>\n",
       "    <tr>\n",
       "      <th>66</th>\n",
       "      <td>1</td>\n",
       "      <td>1</td>\n",
       "      <td>1</td>\n",
       "    </tr>\n",
       "    <tr>\n",
       "      <th>72</th>\n",
       "      <td>1</td>\n",
       "      <td>1</td>\n",
       "      <td>1</td>\n",
       "    </tr>\n",
       "    <tr>\n",
       "      <th>76</th>\n",
       "      <td>1</td>\n",
       "      <td>1</td>\n",
       "      <td>1</td>\n",
       "    </tr>\n",
       "    <tr>\n",
       "      <th>78</th>\n",
       "      <td>1</td>\n",
       "      <td>1</td>\n",
       "      <td>1</td>\n",
       "    </tr>\n",
       "    <tr>\n",
       "      <th>85</th>\n",
       "      <td>1</td>\n",
       "      <td>1</td>\n",
       "      <td>1</td>\n",
       "    </tr>\n",
       "    <tr>\n",
       "      <th>87</th>\n",
       "      <td>1</td>\n",
       "      <td>1</td>\n",
       "      <td>1</td>\n",
       "    </tr>\n",
       "    <tr>\n",
       "      <th>88</th>\n",
       "      <td>1</td>\n",
       "      <td>1</td>\n",
       "      <td>1</td>\n",
       "    </tr>\n",
       "    <tr>\n",
       "      <th>91</th>\n",
       "      <td>1</td>\n",
       "      <td>1</td>\n",
       "      <td>1</td>\n",
       "    </tr>\n",
       "    <tr>\n",
       "      <th>96</th>\n",
       "      <td>1</td>\n",
       "      <td>1</td>\n",
       "      <td>1</td>\n",
       "    </tr>\n",
       "    <tr>\n",
       "      <th>6</th>\n",
       "      <td>1</td>\n",
       "      <td>1</td>\n",
       "      <td>0</td>\n",
       "    </tr>\n",
       "  </tbody>\n",
       "</table>\n",
       "</div>"
      ],
      "text/plain": [
       "    CL1  CL2  CL7\n",
       "9     1    1    1\n",
       "11    1    1    1\n",
       "12    1    1    1\n",
       "14    1    1    1\n",
       "18    1    1    1\n",
       "23    1    1    1\n",
       "28    1    1    1\n",
       "31    1    1    1\n",
       "37    1    1    1\n",
       "59    1    1    1\n",
       "66    1    1    1\n",
       "72    1    1    1\n",
       "76    1    1    1\n",
       "78    1    1    1\n",
       "85    1    1    1\n",
       "87    1    1    1\n",
       "88    1    1    1\n",
       "91    1    1    1\n",
       "96    1    1    1\n",
       "6     1    1    0"
      ]
     },
     "execution_count": 11,
     "metadata": {},
     "output_type": "execute_result"
    }
   ],
   "source": [
    "df[['CL1','CL2','CL7']].sort_values(by=['CL1','CL2','CL7'],ascending=False).head(20)"
   ]
  },
  {
   "cell_type": "code",
   "execution_count": 28,
   "metadata": {},
   "outputs": [
    {
     "data": {
      "text/html": [
       "<div>\n",
       "<style scoped>\n",
       "    .dataframe tbody tr th:only-of-type {\n",
       "        vertical-align: middle;\n",
       "    }\n",
       "\n",
       "    .dataframe tbody tr th {\n",
       "        vertical-align: top;\n",
       "    }\n",
       "\n",
       "    .dataframe thead th {\n",
       "        text-align: right;\n",
       "    }\n",
       "</style>\n",
       "<table border=\"1\" class=\"dataframe\">\n",
       "  <thead>\n",
       "    <tr style=\"text-align: right;\">\n",
       "      <th></th>\n",
       "      <th>EMPLID</th>\n",
       "      <th>CL1</th>\n",
       "      <th>CL2</th>\n",
       "      <th>CL7</th>\n",
       "    </tr>\n",
       "  </thead>\n",
       "  <tbody>\n",
       "    <tr>\n",
       "      <th>9</th>\n",
       "      <td>10</td>\n",
       "      <td>1</td>\n",
       "      <td>1</td>\n",
       "      <td>1</td>\n",
       "    </tr>\n",
       "    <tr>\n",
       "      <th>11</th>\n",
       "      <td>12</td>\n",
       "      <td>1</td>\n",
       "      <td>1</td>\n",
       "      <td>1</td>\n",
       "    </tr>\n",
       "    <tr>\n",
       "      <th>12</th>\n",
       "      <td>13</td>\n",
       "      <td>1</td>\n",
       "      <td>1</td>\n",
       "      <td>1</td>\n",
       "    </tr>\n",
       "    <tr>\n",
       "      <th>14</th>\n",
       "      <td>15</td>\n",
       "      <td>1</td>\n",
       "      <td>1</td>\n",
       "      <td>1</td>\n",
       "    </tr>\n",
       "    <tr>\n",
       "      <th>18</th>\n",
       "      <td>19</td>\n",
       "      <td>1</td>\n",
       "      <td>1</td>\n",
       "      <td>1</td>\n",
       "    </tr>\n",
       "    <tr>\n",
       "      <th>23</th>\n",
       "      <td>24</td>\n",
       "      <td>1</td>\n",
       "      <td>1</td>\n",
       "      <td>1</td>\n",
       "    </tr>\n",
       "    <tr>\n",
       "      <th>28</th>\n",
       "      <td>29</td>\n",
       "      <td>1</td>\n",
       "      <td>1</td>\n",
       "      <td>1</td>\n",
       "    </tr>\n",
       "    <tr>\n",
       "      <th>31</th>\n",
       "      <td>32</td>\n",
       "      <td>1</td>\n",
       "      <td>1</td>\n",
       "      <td>1</td>\n",
       "    </tr>\n",
       "    <tr>\n",
       "      <th>37</th>\n",
       "      <td>38</td>\n",
       "      <td>1</td>\n",
       "      <td>1</td>\n",
       "      <td>1</td>\n",
       "    </tr>\n",
       "    <tr>\n",
       "      <th>59</th>\n",
       "      <td>60</td>\n",
       "      <td>1</td>\n",
       "      <td>1</td>\n",
       "      <td>1</td>\n",
       "    </tr>\n",
       "    <tr>\n",
       "      <th>66</th>\n",
       "      <td>67</td>\n",
       "      <td>1</td>\n",
       "      <td>1</td>\n",
       "      <td>1</td>\n",
       "    </tr>\n",
       "    <tr>\n",
       "      <th>72</th>\n",
       "      <td>73</td>\n",
       "      <td>1</td>\n",
       "      <td>1</td>\n",
       "      <td>1</td>\n",
       "    </tr>\n",
       "    <tr>\n",
       "      <th>76</th>\n",
       "      <td>77</td>\n",
       "      <td>1</td>\n",
       "      <td>1</td>\n",
       "      <td>1</td>\n",
       "    </tr>\n",
       "    <tr>\n",
       "      <th>78</th>\n",
       "      <td>79</td>\n",
       "      <td>1</td>\n",
       "      <td>1</td>\n",
       "      <td>1</td>\n",
       "    </tr>\n",
       "    <tr>\n",
       "      <th>85</th>\n",
       "      <td>86</td>\n",
       "      <td>1</td>\n",
       "      <td>1</td>\n",
       "      <td>1</td>\n",
       "    </tr>\n",
       "    <tr>\n",
       "      <th>87</th>\n",
       "      <td>88</td>\n",
       "      <td>1</td>\n",
       "      <td>1</td>\n",
       "      <td>1</td>\n",
       "    </tr>\n",
       "    <tr>\n",
       "      <th>88</th>\n",
       "      <td>89</td>\n",
       "      <td>1</td>\n",
       "      <td>1</td>\n",
       "      <td>1</td>\n",
       "    </tr>\n",
       "    <tr>\n",
       "      <th>91</th>\n",
       "      <td>92</td>\n",
       "      <td>1</td>\n",
       "      <td>1</td>\n",
       "      <td>1</td>\n",
       "    </tr>\n",
       "    <tr>\n",
       "      <th>96</th>\n",
       "      <td>97</td>\n",
       "      <td>1</td>\n",
       "      <td>1</td>\n",
       "      <td>1</td>\n",
       "    </tr>\n",
       "  </tbody>\n",
       "</table>\n",
       "</div>"
      ],
      "text/plain": [
       "    EMPLID  CL1  CL2  CL7\n",
       "9       10    1    1    1\n",
       "11      12    1    1    1\n",
       "12      13    1    1    1\n",
       "14      15    1    1    1\n",
       "18      19    1    1    1\n",
       "23      24    1    1    1\n",
       "28      29    1    1    1\n",
       "31      32    1    1    1\n",
       "37      38    1    1    1\n",
       "59      60    1    1    1\n",
       "66      67    1    1    1\n",
       "72      73    1    1    1\n",
       "76      77    1    1    1\n",
       "78      79    1    1    1\n",
       "85      86    1    1    1\n",
       "87      88    1    1    1\n",
       "88      89    1    1    1\n",
       "91      92    1    1    1\n",
       "96      97    1    1    1"
      ]
     },
     "execution_count": 28,
     "metadata": {},
     "output_type": "execute_result"
    }
   ],
   "source": [
    "students[('CL1', 'CL2', 'CL7')]"
   ]
  },
  {
   "cell_type": "code",
   "execution_count": 18,
   "metadata": {},
   "outputs": [
    {
     "data": {
      "text/plain": [
       "dict_keys([('CL1', 'CL2', 'CL3'), ('CL1', 'CL2', 'CL4'), ('CL1', 'CL2', 'CL5'), ('CL1', 'CL2', 'CL6'), ('CL1', 'CL2', 'CL7'), ('CL1', 'CL2', 'CL8'), ('CL1', 'CL2', 'CL9'), ('CL1', 'CL2', 'CL10'), ('CL1', 'CL3', 'CL4'), ('CL1', 'CL3', 'CL5'), ('CL1', 'CL3', 'CL6'), ('CL1', 'CL3', 'CL7'), ('CL1', 'CL3', 'CL8'), ('CL1', 'CL3', 'CL9'), ('CL1', 'CL3', 'CL10'), ('CL1', 'CL4', 'CL5'), ('CL1', 'CL4', 'CL6'), ('CL1', 'CL4', 'CL7'), ('CL1', 'CL4', 'CL8'), ('CL1', 'CL4', 'CL9'), ('CL1', 'CL4', 'CL10'), ('CL1', 'CL5', 'CL6'), ('CL1', 'CL5', 'CL7'), ('CL1', 'CL5', 'CL8'), ('CL1', 'CL5', 'CL9'), ('CL1', 'CL5', 'CL10'), ('CL1', 'CL6', 'CL7'), ('CL1', 'CL6', 'CL8'), ('CL1', 'CL6', 'CL9'), ('CL1', 'CL6', 'CL10'), ('CL1', 'CL7', 'CL8'), ('CL1', 'CL7', 'CL9'), ('CL1', 'CL7', 'CL10'), ('CL1', 'CL8', 'CL9'), ('CL1', 'CL8', 'CL10'), ('CL1', 'CL9', 'CL10'), ('CL2', 'CL3', 'CL4'), ('CL2', 'CL3', 'CL5'), ('CL2', 'CL3', 'CL6'), ('CL2', 'CL3', 'CL7'), ('CL2', 'CL3', 'CL8'), ('CL2', 'CL3', 'CL9'), ('CL2', 'CL3', 'CL10'), ('CL2', 'CL4', 'CL5'), ('CL2', 'CL4', 'CL6')])"
      ]
     },
     "execution_count": 18,
     "metadata": {},
     "output_type": "execute_result"
    }
   ],
   "source": [
    "students.keys()"
   ]
  },
  {
   "cell_type": "code",
   "execution_count": null,
   "metadata": {},
   "outputs": [],
   "source": []
  }
 ],
 "metadata": {
  "anaconda-cloud": {},
  "kernelspec": {
   "display_name": "Python 3",
   "language": "python",
   "name": "python3"
  },
  "language_info": {
   "codemirror_mode": {
    "name": "ipython",
    "version": 3
   },
   "file_extension": ".py",
   "mimetype": "text/x-python",
   "name": "python",
   "nbconvert_exporter": "python",
   "pygments_lexer": "ipython3",
   "version": "3.7.3"
  }
 },
 "nbformat": 4,
 "nbformat_minor": 1
}
